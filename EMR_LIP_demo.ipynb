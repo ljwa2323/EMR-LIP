{
 "cells": [
  {
   "cell_type": "code",
   "execution_count": 2,
   "metadata": {
    "vscode": {
     "languageId": "r"
    }
   },
   "outputs": [],
   "source": [
    "source(\"./EMR_LIP.R\")\n",
    "library(readxl)\n"
   ]
  },
  {
   "cell_type": "code",
   "execution_count": 3,
   "metadata": {
    "vscode": {
     "languageId": "r"
    }
   },
   "outputs": [],
   "source": [
    "ds <- read_excel(\"data.xlsx\", col_names=T, sheet=1)\n",
    "var_dict <- read_excel(\"var_dict.xlsx\", col_names=T, sheet=1)\n",
    "var_dict1 <- var_dict[var_dict$time_type == \"single\", ,drop=F]\n",
    "var_dict2 <- var_dict[var_dict$time_type == \"interval\", ,drop=F]\n",
    "ds_map <- read_excel(\"var_dict.xlsx\", col_names=T, sheet=2)"
   ]
  },
  {
   "cell_type": "code",
   "execution_count": 10,
   "metadata": {
    "vscode": {
     "languageId": "r"
    }
   },
   "outputs": [
    {
     "data": {
      "text/html": [
       "<table class=\"dataframe\">\n",
       "<caption>A tibble: 5 × 12</caption>\n",
       "<thead>\n",
       "\t<tr><th scope=col>itemid</th><th scope=col>time_type</th><th scope=col>value_type</th><th scope=col>agg_fun</th><th scope=col>fill1</th><th scope=col>fill2</th><th scope=col>cont</th><th scope=col>low</th><th scope=col>high</th><th scope=col>valid_value</th><th scope=col>operational</th><th scope=col>last_value</th></tr>\n",
       "\t<tr><th scope=col>&lt;chr&gt;</th><th scope=col>&lt;chr&gt;</th><th scope=col>&lt;chr&gt;</th><th scope=col>&lt;chr&gt;</th><th scope=col>&lt;chr&gt;</th><th scope=col>&lt;chr&gt;</th><th scope=col>&lt;chr&gt;</th><th scope=col>&lt;dbl&gt;</th><th scope=col>&lt;dbl&gt;</th><th scope=col>&lt;chr&gt;</th><th scope=col>&lt;chr&gt;</th><th scope=col>&lt;dbl&gt;</th></tr>\n",
       "</thead>\n",
       "<tbody>\n",
       "\t<tr><td>A</td><td>single  </td><td>num</td><td>mean </td><td>locb</td><td>lin </td><td>6</td><td>-1</td><td>18</td><td>NA </td><td>no </td><td>4.5</td></tr>\n",
       "\t<tr><td>B</td><td>single  </td><td>ord</td><td>mode </td><td>locb</td><td>locf</td><td>3</td><td>NA</td><td>NA</td><td>NA </td><td>no </td><td> NA</td></tr>\n",
       "\t<tr><td>C</td><td>single  </td><td>cat</td><td>mode </td><td>locb</td><td>locf</td><td>a</td><td>NA</td><td>NA</td><td>a|b</td><td>no </td><td> NA</td></tr>\n",
       "\t<tr><td>D</td><td>single  </td><td>bin</td><td>any  </td><td>locb</td><td>zero</td><td>1</td><td>NA</td><td>NA</td><td>NA </td><td>no </td><td> NA</td></tr>\n",
       "\t<tr><td>E</td><td>interval</td><td>num</td><td>sum_w</td><td>zero</td><td>zero</td><td>2</td><td>-1</td><td>18</td><td>NA </td><td>yes</td><td>2.5</td></tr>\n",
       "</tbody>\n",
       "</table>\n"
      ],
      "text/latex": [
       "A tibble: 5 × 12\n",
       "\\begin{tabular}{llllllllllll}\n",
       " itemid & time\\_type & value\\_type & agg\\_fun & fill1 & fill2 & cont & low & high & valid\\_value & operational & last\\_value\\\\\n",
       " <chr> & <chr> & <chr> & <chr> & <chr> & <chr> & <chr> & <dbl> & <dbl> & <chr> & <chr> & <dbl>\\\\\n",
       "\\hline\n",
       "\t A & single   & num & mean  & locb & lin  & 6 & -1 & 18 & NA  & no  & 4.5\\\\\n",
       "\t B & single   & ord & mode  & locb & locf & 3 & NA & NA & NA  & no  &  NA\\\\\n",
       "\t C & single   & cat & mode  & locb & locf & a & NA & NA & a\\textbar{}b & no  &  NA\\\\\n",
       "\t D & single   & bin & any   & locb & zero & 1 & NA & NA & NA  & no  &  NA\\\\\n",
       "\t E & interval & num & sum\\_w & zero & zero & 2 & -1 & 18 & NA  & yes & 2.5\\\\\n",
       "\\end{tabular}\n"
      ],
      "text/markdown": [
       "\n",
       "A tibble: 5 × 12\n",
       "\n",
       "| itemid &lt;chr&gt; | time_type &lt;chr&gt; | value_type &lt;chr&gt; | agg_fun &lt;chr&gt; | fill1 &lt;chr&gt; | fill2 &lt;chr&gt; | cont &lt;chr&gt; | low &lt;dbl&gt; | high &lt;dbl&gt; | valid_value &lt;chr&gt; | operational &lt;chr&gt; | last_value &lt;dbl&gt; |\n",
       "|---|---|---|---|---|---|---|---|---|---|---|---|\n",
       "| A | single   | num | mean  | locb | lin  | 6 | -1 | 18 | NA  | no  | 4.5 |\n",
       "| B | single   | ord | mode  | locb | locf | 3 | NA | NA | NA  | no  |  NA |\n",
       "| C | single   | cat | mode  | locb | locf | a | NA | NA | a|b | no  |  NA |\n",
       "| D | single   | bin | any   | locb | zero | 1 | NA | NA | NA  | no  |  NA |\n",
       "| E | interval | num | sum_w | zero | zero | 2 | -1 | 18 | NA  | yes | 2.5 |\n",
       "\n"
      ],
      "text/plain": [
       "  itemid time_type value_type agg_fun fill1 fill2 cont low high valid_value\n",
       "1 A      single    num        mean    locb  lin   6    -1  18   NA         \n",
       "2 B      single    ord        mode    locb  locf  3    NA  NA   NA         \n",
       "3 C      single    cat        mode    locb  locf  a    NA  NA   a|b        \n",
       "4 D      single    bin        any     locb  zero  1    NA  NA   NA         \n",
       "5 E      interval  num        sum_w   zero  zero  2    -1  18   NA         \n",
       "  operational last_value\n",
       "1 no          4.5       \n",
       "2 no           NA       \n",
       "3 no           NA       \n",
       "4 no           NA       \n",
       "5 yes         2.5       "
      ]
     },
     "metadata": {},
     "output_type": "display_data"
    }
   ],
   "source": [
    "var_dict"
   ]
  },
  {
   "cell_type": "code",
   "execution_count": 5,
   "metadata": {
    "vscode": {
     "languageId": "r"
    }
   },
   "outputs": [
    {
     "data": {
      "text/html": [
       "<table class=\"dataframe\">\n",
       "<caption>A tibble: 10 × 5</caption>\n",
       "<thead>\n",
       "\t<tr><th scope=col>sid</th><th scope=col>time</th><th scope=col>time2</th><th scope=col>item_id</th><th scope=col>value</th></tr>\n",
       "\t<tr><th scope=col>&lt;dbl&gt;</th><th scope=col>&lt;dbl&gt;</th><th scope=col>&lt;dbl&gt;</th><th scope=col>&lt;chr&gt;</th><th scope=col>&lt;chr&gt;</th></tr>\n",
       "</thead>\n",
       "<tbody>\n",
       "\t<tr><td>1</td><td>1</td><td>NA</td><td>a</td><td>2</td></tr>\n",
       "\t<tr><td>1</td><td>1</td><td>NA</td><td>b</td><td>1</td></tr>\n",
       "\t<tr><td>1</td><td>1</td><td>NA</td><td>c</td><td>b</td></tr>\n",
       "\t<tr><td>1</td><td>1</td><td>NA</td><td>d</td><td>0</td></tr>\n",
       "\t<tr><td>1</td><td>1</td><td>NA</td><td>a</td><td>8</td></tr>\n",
       "\t<tr><td>1</td><td>2</td><td>NA</td><td>b</td><td>2</td></tr>\n",
       "\t<tr><td>1</td><td>3</td><td>NA</td><td>a</td><td>1</td></tr>\n",
       "\t<tr><td>1</td><td>3</td><td>NA</td><td>b</td><td>2</td></tr>\n",
       "\t<tr><td>1</td><td>3</td><td>NA</td><td>C</td><td>a</td></tr>\n",
       "\t<tr><td>1</td><td>3</td><td>NA</td><td>D</td><td>1</td></tr>\n",
       "</tbody>\n",
       "</table>\n"
      ],
      "text/latex": [
       "A tibble: 10 × 5\n",
       "\\begin{tabular}{lllll}\n",
       " sid & time & time2 & item\\_id & value\\\\\n",
       " <dbl> & <dbl> & <dbl> & <chr> & <chr>\\\\\n",
       "\\hline\n",
       "\t 1 & 1 & NA & a & 2\\\\\n",
       "\t 1 & 1 & NA & b & 1\\\\\n",
       "\t 1 & 1 & NA & c & b\\\\\n",
       "\t 1 & 1 & NA & d & 0\\\\\n",
       "\t 1 & 1 & NA & a & 8\\\\\n",
       "\t 1 & 2 & NA & b & 2\\\\\n",
       "\t 1 & 3 & NA & a & 1\\\\\n",
       "\t 1 & 3 & NA & b & 2\\\\\n",
       "\t 1 & 3 & NA & C & a\\\\\n",
       "\t 1 & 3 & NA & D & 1\\\\\n",
       "\\end{tabular}\n"
      ],
      "text/markdown": [
       "\n",
       "A tibble: 10 × 5\n",
       "\n",
       "| sid &lt;dbl&gt; | time &lt;dbl&gt; | time2 &lt;dbl&gt; | item_id &lt;chr&gt; | value &lt;chr&gt; |\n",
       "|---|---|---|---|---|\n",
       "| 1 | 1 | NA | a | 2 |\n",
       "| 1 | 1 | NA | b | 1 |\n",
       "| 1 | 1 | NA | c | b |\n",
       "| 1 | 1 | NA | d | 0 |\n",
       "| 1 | 1 | NA | a | 8 |\n",
       "| 1 | 2 | NA | b | 2 |\n",
       "| 1 | 3 | NA | a | 1 |\n",
       "| 1 | 3 | NA | b | 2 |\n",
       "| 1 | 3 | NA | C | a |\n",
       "| 1 | 3 | NA | D | 1 |\n",
       "\n"
      ],
      "text/plain": [
       "   sid time time2 item_id value\n",
       "1  1   1    NA    a       2    \n",
       "2  1   1    NA    b       1    \n",
       "3  1   1    NA    c       b    \n",
       "4  1   1    NA    d       0    \n",
       "5  1   1    NA    a       8    \n",
       "6  1   2    NA    b       2    \n",
       "7  1   3    NA    a       1    \n",
       "8  1   3    NA    b       2    \n",
       "9  1   3    NA    C       a    \n",
       "10 1   3    NA    D       1    "
      ]
     },
     "metadata": {},
     "output_type": "display_data"
    }
   ],
   "source": [
    "head(ds, 10)"
   ]
  },
  {
   "cell_type": "code",
   "execution_count": 6,
   "metadata": {
    "vscode": {
     "languageId": "r"
    }
   },
   "outputs": [],
   "source": [
    "ds <- rename_long_table(ds, ds_map$old_name, ds_map$new_name, \"item_id\")"
   ]
  },
  {
   "cell_type": "code",
   "execution_count": 7,
   "metadata": {
    "vscode": {
     "languageId": "r"
    }
   },
   "outputs": [
    {
     "data": {
      "text/html": [
       "<table class=\"dataframe\">\n",
       "<caption>A tibble: 10 × 5</caption>\n",
       "<thead>\n",
       "\t<tr><th scope=col>sid</th><th scope=col>time</th><th scope=col>time2</th><th scope=col>item_id</th><th scope=col>value</th></tr>\n",
       "\t<tr><th scope=col>&lt;dbl&gt;</th><th scope=col>&lt;dbl&gt;</th><th scope=col>&lt;dbl&gt;</th><th scope=col>&lt;chr&gt;</th><th scope=col>&lt;chr&gt;</th></tr>\n",
       "</thead>\n",
       "<tbody>\n",
       "\t<tr><td>1</td><td>1</td><td>NA</td><td>A</td><td>2</td></tr>\n",
       "\t<tr><td>1</td><td>1</td><td>NA</td><td>B</td><td>1</td></tr>\n",
       "\t<tr><td>1</td><td>1</td><td>NA</td><td>C</td><td>b</td></tr>\n",
       "\t<tr><td>1</td><td>1</td><td>NA</td><td>D</td><td>0</td></tr>\n",
       "\t<tr><td>1</td><td>1</td><td>NA</td><td>A</td><td>8</td></tr>\n",
       "\t<tr><td>1</td><td>2</td><td>NA</td><td>B</td><td>2</td></tr>\n",
       "\t<tr><td>1</td><td>3</td><td>NA</td><td>A</td><td>1</td></tr>\n",
       "\t<tr><td>1</td><td>3</td><td>NA</td><td>B</td><td>2</td></tr>\n",
       "\t<tr><td>1</td><td>3</td><td>NA</td><td>C</td><td>a</td></tr>\n",
       "\t<tr><td>1</td><td>3</td><td>NA</td><td>D</td><td>1</td></tr>\n",
       "</tbody>\n",
       "</table>\n"
      ],
      "text/latex": [
       "A tibble: 10 × 5\n",
       "\\begin{tabular}{lllll}\n",
       " sid & time & time2 & item\\_id & value\\\\\n",
       " <dbl> & <dbl> & <dbl> & <chr> & <chr>\\\\\n",
       "\\hline\n",
       "\t 1 & 1 & NA & A & 2\\\\\n",
       "\t 1 & 1 & NA & B & 1\\\\\n",
       "\t 1 & 1 & NA & C & b\\\\\n",
       "\t 1 & 1 & NA & D & 0\\\\\n",
       "\t 1 & 1 & NA & A & 8\\\\\n",
       "\t 1 & 2 & NA & B & 2\\\\\n",
       "\t 1 & 3 & NA & A & 1\\\\\n",
       "\t 1 & 3 & NA & B & 2\\\\\n",
       "\t 1 & 3 & NA & C & a\\\\\n",
       "\t 1 & 3 & NA & D & 1\\\\\n",
       "\\end{tabular}\n"
      ],
      "text/markdown": [
       "\n",
       "A tibble: 10 × 5\n",
       "\n",
       "| sid &lt;dbl&gt; | time &lt;dbl&gt; | time2 &lt;dbl&gt; | item_id &lt;chr&gt; | value &lt;chr&gt; |\n",
       "|---|---|---|---|---|\n",
       "| 1 | 1 | NA | A | 2 |\n",
       "| 1 | 1 | NA | B | 1 |\n",
       "| 1 | 1 | NA | C | b |\n",
       "| 1 | 1 | NA | D | 0 |\n",
       "| 1 | 1 | NA | A | 8 |\n",
       "| 1 | 2 | NA | B | 2 |\n",
       "| 1 | 3 | NA | A | 1 |\n",
       "| 1 | 3 | NA | B | 2 |\n",
       "| 1 | 3 | NA | C | a |\n",
       "| 1 | 3 | NA | D | 1 |\n",
       "\n"
      ],
      "text/plain": [
       "   sid time time2 item_id value\n",
       "1  1   1    NA    A       2    \n",
       "2  1   1    NA    B       1    \n",
       "3  1   1    NA    C       b    \n",
       "4  1   1    NA    D       0    \n",
       "5  1   1    NA    A       8    \n",
       "6  1   2    NA    B       2    \n",
       "7  1   3    NA    A       1    \n",
       "8  1   3    NA    B       2    \n",
       "9  1   3    NA    C       a    \n",
       "10 1   3    NA    D       1    "
      ]
     },
     "metadata": {},
     "output_type": "display_data"
    }
   ],
   "source": [
    "head(ds, 10)"
   ]
  },
  {
   "cell_type": "code",
   "execution_count": 8,
   "metadata": {
    "vscode": {
     "languageId": "r"
    }
   },
   "outputs": [],
   "source": [
    "ds <- remove_extreme_value_long(ds, var_dict$itemid, var_dict$value_type,\n",
    "                                 \"item_id\", \"value\", var_dict)"
   ]
  },
  {
   "cell_type": "code",
   "execution_count": 9,
   "metadata": {
    "vscode": {
     "languageId": "r"
    }
   },
   "outputs": [
    {
     "data": {
      "text/html": [
       "<table class=\"dataframe\">\n",
       "<caption>A tibble: 10 × 5</caption>\n",
       "<thead>\n",
       "\t<tr><th scope=col>sid</th><th scope=col>time</th><th scope=col>time2</th><th scope=col>item_id</th><th scope=col>value</th></tr>\n",
       "\t<tr><th scope=col>&lt;dbl&gt;</th><th scope=col>&lt;dbl&gt;</th><th scope=col>&lt;dbl&gt;</th><th scope=col>&lt;chr&gt;</th><th scope=col>&lt;chr&gt;</th></tr>\n",
       "</thead>\n",
       "<tbody>\n",
       "\t<tr><td>1</td><td>1</td><td>NA</td><td>A</td><td>2</td></tr>\n",
       "\t<tr><td>1</td><td>1</td><td>NA</td><td>A</td><td>8</td></tr>\n",
       "\t<tr><td>1</td><td>3</td><td>NA</td><td>A</td><td>1</td></tr>\n",
       "\t<tr><td>1</td><td>3</td><td>NA</td><td>A</td><td>5</td></tr>\n",
       "\t<tr><td>1</td><td>4</td><td>NA</td><td>A</td><td>1</td></tr>\n",
       "\t<tr><td>1</td><td>4</td><td>NA</td><td>A</td><td>5</td></tr>\n",
       "\t<tr><td>1</td><td>4</td><td>NA</td><td>A</td><td>1</td></tr>\n",
       "\t<tr><td>1</td><td>4</td><td>NA</td><td>A</td><td>5</td></tr>\n",
       "\t<tr><td>1</td><td>5</td><td>NA</td><td>A</td><td>1</td></tr>\n",
       "\t<tr><td>1</td><td>5</td><td>NA</td><td>A</td><td>5</td></tr>\n",
       "</tbody>\n",
       "</table>\n"
      ],
      "text/latex": [
       "A tibble: 10 × 5\n",
       "\\begin{tabular}{lllll}\n",
       " sid & time & time2 & item\\_id & value\\\\\n",
       " <dbl> & <dbl> & <dbl> & <chr> & <chr>\\\\\n",
       "\\hline\n",
       "\t 1 & 1 & NA & A & 2\\\\\n",
       "\t 1 & 1 & NA & A & 8\\\\\n",
       "\t 1 & 3 & NA & A & 1\\\\\n",
       "\t 1 & 3 & NA & A & 5\\\\\n",
       "\t 1 & 4 & NA & A & 1\\\\\n",
       "\t 1 & 4 & NA & A & 5\\\\\n",
       "\t 1 & 4 & NA & A & 1\\\\\n",
       "\t 1 & 4 & NA & A & 5\\\\\n",
       "\t 1 & 5 & NA & A & 1\\\\\n",
       "\t 1 & 5 & NA & A & 5\\\\\n",
       "\\end{tabular}\n"
      ],
      "text/markdown": [
       "\n",
       "A tibble: 10 × 5\n",
       "\n",
       "| sid &lt;dbl&gt; | time &lt;dbl&gt; | time2 &lt;dbl&gt; | item_id &lt;chr&gt; | value &lt;chr&gt; |\n",
       "|---|---|---|---|---|\n",
       "| 1 | 1 | NA | A | 2 |\n",
       "| 1 | 1 | NA | A | 8 |\n",
       "| 1 | 3 | NA | A | 1 |\n",
       "| 1 | 3 | NA | A | 5 |\n",
       "| 1 | 4 | NA | A | 1 |\n",
       "| 1 | 4 | NA | A | 5 |\n",
       "| 1 | 4 | NA | A | 1 |\n",
       "| 1 | 4 | NA | A | 5 |\n",
       "| 1 | 5 | NA | A | 1 |\n",
       "| 1 | 5 | NA | A | 5 |\n",
       "\n"
      ],
      "text/plain": [
       "   sid time time2 item_id value\n",
       "1  1   1    NA    A       2    \n",
       "2  1   1    NA    A       8    \n",
       "3  1   3    NA    A       1    \n",
       "4  1   3    NA    A       5    \n",
       "5  1   4    NA    A       1    \n",
       "6  1   4    NA    A       5    \n",
       "7  1   4    NA    A       1    \n",
       "8  1   4    NA    A       5    \n",
       "9  1   5    NA    A       1    \n",
       "10 1   5    NA    A       5    "
      ]
     },
     "metadata": {},
     "output_type": "display_data"
    }
   ],
   "source": [
    "head(ds, 10)"
   ]
  },
  {
   "cell_type": "code",
   "execution_count": 11,
   "metadata": {
    "vscode": {
     "languageId": "r"
    }
   },
   "outputs": [],
   "source": [
    "stat_ds1 <- get_stat_long(ds, \n",
    "                          var_dict1$itemid, \n",
    "                          var_dict1$value_type,\n",
    "                          \"item_id\",\n",
    "                          \"value\",\n",
    "                          var_dict1$cont)\n",
    "stat_ds2 <- get_stat_long(ds, \n",
    "                          var_dict2$itemid, \n",
    "                          var_dict2$value_type,\n",
    "                          \"item_id\",\n",
    "                          \"value\",\n",
    "                          var_dict2$cont)\n"
   ]
  },
  {
   "cell_type": "code",
   "execution_count": 12,
   "metadata": {
    "vscode": {
     "languageId": "r"
    }
   },
   "outputs": [],
   "source": [
    "ds_k <- ds[ds$sid == 1,]\n",
    "ds_k1 <- resample_single_long(ds_k,\n",
    "                                var_dict1$itemid,\n",
    "                                var_dict1$value_type,\n",
    "                                var_dict1$agg_fun,\n",
    "                                1:15,\n",
    "                                \"item_id\",\n",
    "                                \"value\",\n",
    "                                \"time\",\n",
    "                                1,\n",
    "                                direction = \"both\",\n",
    "                                keepNArow = T,\n",
    "                                keep_first = F)\n",
    "# undebug(resample_single_long)\n",
    "ind1 <- (ds_k1[,2] == \"1\")\n",
    "ds_k1 <- ds_k1[,c(1,3:ncol(ds_k1))]\n",
    "mask_k1 <- get_mask(ds_k1, 2:ncol(ds_k1), 1)\n",
    "ds_k1 <- fill(ds_k1, 2:ncol(ds_k1), 1, get_type(stat_ds1), var_dict1$fill1, var_dict1$fill2, stat_ds1)\n",
    "ds_k1 <- fill_last_values(ds_k1, mask_k1, 2:ncol(ds_k1), 1, var_dict1)\n",
    "ds_k1 <- to_onehot(ds_k1, 2:ncol(ds_k1), 1, get_type(stat_ds1), stat_ds1)"
   ]
  },
  {
   "cell_type": "code",
   "execution_count": 13,
   "metadata": {
    "vscode": {
     "languageId": "r"
    }
   },
   "outputs": [
    {
     "data": {
      "text/html": [
       "<table class=\"dataframe\">\n",
       "<caption>A matrix: 10 × 6 of type chr</caption>\n",
       "<thead>\n",
       "\t<tr><th scope=col>time</th><th scope=col>A</th><th scope=col>B</th><th scope=col>C___1</th><th scope=col>C___2</th><th scope=col>D</th></tr>\n",
       "</thead>\n",
       "<tbody>\n",
       "\t<tr><td>1 </td><td>5               </td><td>1</td><td>0</td><td>1</td><td>0</td></tr>\n",
       "\t<tr><td>2 </td><td>4               </td><td>2</td><td>0</td><td>1</td><td>0</td></tr>\n",
       "\t<tr><td>3 </td><td>3               </td><td>3</td><td>1</td><td>0</td><td>1</td></tr>\n",
       "\t<tr><td>4 </td><td>3               </td><td>2</td><td>1</td><td>0</td><td>1</td></tr>\n",
       "\t<tr><td>5 </td><td>3.66666666666667</td><td>3</td><td>1</td><td>0</td><td>1</td></tr>\n",
       "\t<tr><td>6 </td><td>2.33333333333333</td><td>3</td><td>1</td><td>0</td><td>0</td></tr>\n",
       "\t<tr><td>7 </td><td>1               </td><td>2</td><td>1</td><td>0</td><td>0</td></tr>\n",
       "\t<tr><td>8 </td><td>1.4             </td><td>2</td><td>1</td><td>0</td><td>0</td></tr>\n",
       "\t<tr><td>9 </td><td>1.8             </td><td>3</td><td>1</td><td>0</td><td>1</td></tr>\n",
       "\t<tr><td>10</td><td>2.2             </td><td>3</td><td>1</td><td>0</td><td>0</td></tr>\n",
       "</tbody>\n",
       "</table>\n"
      ],
      "text/latex": [
       "A matrix: 10 × 6 of type chr\n",
       "\\begin{tabular}{llllll}\n",
       " time & A & B & C\\_\\_\\_1 & C\\_\\_\\_2 & D\\\\\n",
       "\\hline\n",
       "\t 1  & 5                & 1 & 0 & 1 & 0\\\\\n",
       "\t 2  & 4                & 2 & 0 & 1 & 0\\\\\n",
       "\t 3  & 3                & 3 & 1 & 0 & 1\\\\\n",
       "\t 4  & 3                & 2 & 1 & 0 & 1\\\\\n",
       "\t 5  & 3.66666666666667 & 3 & 1 & 0 & 1\\\\\n",
       "\t 6  & 2.33333333333333 & 3 & 1 & 0 & 0\\\\\n",
       "\t 7  & 1                & 2 & 1 & 0 & 0\\\\\n",
       "\t 8  & 1.4              & 2 & 1 & 0 & 0\\\\\n",
       "\t 9  & 1.8              & 3 & 1 & 0 & 1\\\\\n",
       "\t 10 & 2.2              & 3 & 1 & 0 & 0\\\\\n",
       "\\end{tabular}\n"
      ],
      "text/markdown": [
       "\n",
       "A matrix: 10 × 6 of type chr\n",
       "\n",
       "| time | A | B | C___1 | C___2 | D |\n",
       "|---|---|---|---|---|---|\n",
       "| 1  | 5                | 1 | 0 | 1 | 0 |\n",
       "| 2  | 4                | 2 | 0 | 1 | 0 |\n",
       "| 3  | 3                | 3 | 1 | 0 | 1 |\n",
       "| 4  | 3                | 2 | 1 | 0 | 1 |\n",
       "| 5  | 3.66666666666667 | 3 | 1 | 0 | 1 |\n",
       "| 6  | 2.33333333333333 | 3 | 1 | 0 | 0 |\n",
       "| 7  | 1                | 2 | 1 | 0 | 0 |\n",
       "| 8  | 1.4              | 2 | 1 | 0 | 0 |\n",
       "| 9  | 1.8              | 3 | 1 | 0 | 1 |\n",
       "| 10 | 2.2              | 3 | 1 | 0 | 0 |\n",
       "\n"
      ],
      "text/plain": [
       "      time A                B C___1 C___2 D\n",
       " [1,] 1    5                1 0     1     0\n",
       " [2,] 2    4                2 0     1     0\n",
       " [3,] 3    3                3 1     0     1\n",
       " [4,] 4    3                2 1     0     1\n",
       " [5,] 5    3.66666666666667 3 1     0     1\n",
       " [6,] 6    2.33333333333333 3 1     0     0\n",
       " [7,] 7    1                2 1     0     0\n",
       " [8,] 8    1.4              2 1     0     0\n",
       " [9,] 9    1.8              3 1     0     1\n",
       "[10,] 10   2.2              3 1     0     0"
      ]
     },
     "metadata": {},
     "output_type": "display_data"
    }
   ],
   "source": [
    "head(ds_k1, 10)"
   ]
  },
  {
   "cell_type": "code",
   "execution_count": 14,
   "metadata": {
    "vscode": {
     "languageId": "r"
    }
   },
   "outputs": [],
   "source": [
    "ds_k2 <- resample_interval_long(ds_k,\n",
    "                            var_dict2$itemid,\n",
    "                            var_dict2$value_type,\n",
    "                            var_dict2$agg_fun,\n",
    "                            1:15,\n",
    "                            \"item_id\",\n",
    "                            \"value\",\n",
    "                            \"time\",\n",
    "                            \"time2\",\n",
    "                            1,\n",
    "                            direction = \"both\",\n",
    "                            keepNArow = T,\n",
    "                            keep_first = F)\n",
    "ind2 <- (ds_k2[,2] == \"1\")\n",
    "ds_k2 <- ds_k2[,c(1,3:ncol(ds_k2))]\n",
    "mask_k2 <- get_mask(ds_k2, 2:ncol(ds_k2), 1)\n",
    "ds_k2 <- fill(ds_k2, 2:ncol(ds_k2), 1, get_type(stat_ds2), var_dict2$fill1, var_dict2$fill2, stat_ds2)\n",
    "ds_k2 <- fill_last_values(ds_k2, mask_k2, 2:ncol(ds_k2), 1, var_dict2)\n",
    "ds_k2 <- to_onehot(ds_k2, 2:ncol(ds_k2), 1, get_type(stat_ds2), stat_ds2)"
   ]
  },
  {
   "cell_type": "code",
   "execution_count": 15,
   "metadata": {
    "vscode": {
     "languageId": "r"
    }
   },
   "outputs": [
    {
     "data": {
      "text/html": [
       "<table class=\"dataframe\">\n",
       "<caption>A matrix: 10 × 2 of type chr</caption>\n",
       "<thead>\n",
       "\t<tr><th scope=col>time</th><th scope=col>E</th></tr>\n",
       "</thead>\n",
       "<tbody>\n",
       "\t<tr><td>1 </td><td>0.5 </td></tr>\n",
       "\t<tr><td>2 </td><td>1.5 </td></tr>\n",
       "\t<tr><td>3 </td><td>1.75</td></tr>\n",
       "\t<tr><td>4 </td><td>2   </td></tr>\n",
       "\t<tr><td>5 </td><td>2.25</td></tr>\n",
       "\t<tr><td>6 </td><td>2.5 </td></tr>\n",
       "\t<tr><td>7 </td><td>1.5 </td></tr>\n",
       "\t<tr><td>8 </td><td>0   </td></tr>\n",
       "\t<tr><td>9 </td><td>0   </td></tr>\n",
       "\t<tr><td>10</td><td>0   </td></tr>\n",
       "</tbody>\n",
       "</table>\n"
      ],
      "text/latex": [
       "A matrix: 10 × 2 of type chr\n",
       "\\begin{tabular}{ll}\n",
       " time & E\\\\\n",
       "\\hline\n",
       "\t 1  & 0.5 \\\\\n",
       "\t 2  & 1.5 \\\\\n",
       "\t 3  & 1.75\\\\\n",
       "\t 4  & 2   \\\\\n",
       "\t 5  & 2.25\\\\\n",
       "\t 6  & 2.5 \\\\\n",
       "\t 7  & 1.5 \\\\\n",
       "\t 8  & 0   \\\\\n",
       "\t 9  & 0   \\\\\n",
       "\t 10 & 0   \\\\\n",
       "\\end{tabular}\n"
      ],
      "text/markdown": [
       "\n",
       "A matrix: 10 × 2 of type chr\n",
       "\n",
       "| time | E |\n",
       "|---|---|\n",
       "| 1  | 0.5  |\n",
       "| 2  | 1.5  |\n",
       "| 3  | 1.75 |\n",
       "| 4  | 2    |\n",
       "| 5  | 2.25 |\n",
       "| 6  | 2.5  |\n",
       "| 7  | 1.5  |\n",
       "| 8  | 0    |\n",
       "| 9  | 0    |\n",
       "| 10 | 0    |\n",
       "\n"
      ],
      "text/plain": [
       "      time E   \n",
       " [1,] 1    0.5 \n",
       " [2,] 2    1.5 \n",
       " [3,] 3    1.75\n",
       " [4,] 4    2   \n",
       " [5,] 5    2.25\n",
       " [6,] 6    2.5 \n",
       " [7,] 7    1.5 \n",
       " [8,] 8    0   \n",
       " [9,] 9    0   \n",
       "[10,] 10   0   "
      ]
     },
     "metadata": {},
     "output_type": "display_data"
    }
   ],
   "source": [
    "head(ds_k2, 10)"
   ]
  },
  {
   "cell_type": "code",
   "execution_count": 16,
   "metadata": {
    "vscode": {
     "languageId": "r"
    }
   },
   "outputs": [],
   "source": [
    "ds_k_ <- cbind(ds_k1, ds_k2[,2:ncol(ds_k2),drop=F]) %>% as.data.frame %>% lapply(., as.numeric) %>% as.data.frame\n",
    "ds_k_ <- ds_k_[which(ind1 | ind2), ]"
   ]
  },
  {
   "cell_type": "code",
   "execution_count": 17,
   "metadata": {
    "vscode": {
     "languageId": "r"
    }
   },
   "outputs": [
    {
     "data": {
      "text/html": [
       "<table class=\"dataframe\">\n",
       "<caption>A data.frame: 10 × 7</caption>\n",
       "<thead>\n",
       "\t<tr><th></th><th scope=col>time</th><th scope=col>A</th><th scope=col>B</th><th scope=col>C___1</th><th scope=col>C___2</th><th scope=col>D</th><th scope=col>E</th></tr>\n",
       "\t<tr><th></th><th scope=col>&lt;dbl&gt;</th><th scope=col>&lt;dbl&gt;</th><th scope=col>&lt;dbl&gt;</th><th scope=col>&lt;dbl&gt;</th><th scope=col>&lt;dbl&gt;</th><th scope=col>&lt;dbl&gt;</th><th scope=col>&lt;dbl&gt;</th></tr>\n",
       "</thead>\n",
       "<tbody>\n",
       "\t<tr><th scope=row>1</th><td> 1</td><td>5.000000</td><td>1</td><td>0</td><td>1</td><td>0</td><td>0.50</td></tr>\n",
       "\t<tr><th scope=row>2</th><td> 2</td><td>4.000000</td><td>2</td><td>0</td><td>1</td><td>0</td><td>1.50</td></tr>\n",
       "\t<tr><th scope=row>3</th><td> 3</td><td>3.000000</td><td>3</td><td>1</td><td>0</td><td>1</td><td>1.75</td></tr>\n",
       "\t<tr><th scope=row>4</th><td> 4</td><td>3.000000</td><td>2</td><td>1</td><td>0</td><td>1</td><td>2.00</td></tr>\n",
       "\t<tr><th scope=row>5</th><td> 5</td><td>3.666667</td><td>3</td><td>1</td><td>0</td><td>1</td><td>2.25</td></tr>\n",
       "\t<tr><th scope=row>6</th><td> 6</td><td>2.333333</td><td>3</td><td>1</td><td>0</td><td>0</td><td>2.50</td></tr>\n",
       "\t<tr><th scope=row>7</th><td> 7</td><td>1.000000</td><td>2</td><td>1</td><td>0</td><td>0</td><td>1.50</td></tr>\n",
       "\t<tr><th scope=row>8</th><td> 8</td><td>1.400000</td><td>2</td><td>1</td><td>0</td><td>0</td><td>0.00</td></tr>\n",
       "\t<tr><th scope=row>9</th><td> 9</td><td>1.800000</td><td>3</td><td>1</td><td>0</td><td>1</td><td>0.00</td></tr>\n",
       "\t<tr><th scope=row>12</th><td>12</td><td>3.000000</td><td>3</td><td>1</td><td>0</td><td>1</td><td>0.00</td></tr>\n",
       "</tbody>\n",
       "</table>\n"
      ],
      "text/latex": [
       "A data.frame: 10 × 7\n",
       "\\begin{tabular}{r|lllllll}\n",
       "  & time & A & B & C\\_\\_\\_1 & C\\_\\_\\_2 & D & E\\\\\n",
       "  & <dbl> & <dbl> & <dbl> & <dbl> & <dbl> & <dbl> & <dbl>\\\\\n",
       "\\hline\n",
       "\t1 &  1 & 5.000000 & 1 & 0 & 1 & 0 & 0.50\\\\\n",
       "\t2 &  2 & 4.000000 & 2 & 0 & 1 & 0 & 1.50\\\\\n",
       "\t3 &  3 & 3.000000 & 3 & 1 & 0 & 1 & 1.75\\\\\n",
       "\t4 &  4 & 3.000000 & 2 & 1 & 0 & 1 & 2.00\\\\\n",
       "\t5 &  5 & 3.666667 & 3 & 1 & 0 & 1 & 2.25\\\\\n",
       "\t6 &  6 & 2.333333 & 3 & 1 & 0 & 0 & 2.50\\\\\n",
       "\t7 &  7 & 1.000000 & 2 & 1 & 0 & 0 & 1.50\\\\\n",
       "\t8 &  8 & 1.400000 & 2 & 1 & 0 & 0 & 0.00\\\\\n",
       "\t9 &  9 & 1.800000 & 3 & 1 & 0 & 1 & 0.00\\\\\n",
       "\t12 & 12 & 3.000000 & 3 & 1 & 0 & 1 & 0.00\\\\\n",
       "\\end{tabular}\n"
      ],
      "text/markdown": [
       "\n",
       "A data.frame: 10 × 7\n",
       "\n",
       "| <!--/--> | time &lt;dbl&gt; | A &lt;dbl&gt; | B &lt;dbl&gt; | C___1 &lt;dbl&gt; | C___2 &lt;dbl&gt; | D &lt;dbl&gt; | E &lt;dbl&gt; |\n",
       "|---|---|---|---|---|---|---|---|\n",
       "| 1 |  1 | 5.000000 | 1 | 0 | 1 | 0 | 0.50 |\n",
       "| 2 |  2 | 4.000000 | 2 | 0 | 1 | 0 | 1.50 |\n",
       "| 3 |  3 | 3.000000 | 3 | 1 | 0 | 1 | 1.75 |\n",
       "| 4 |  4 | 3.000000 | 2 | 1 | 0 | 1 | 2.00 |\n",
       "| 5 |  5 | 3.666667 | 3 | 1 | 0 | 1 | 2.25 |\n",
       "| 6 |  6 | 2.333333 | 3 | 1 | 0 | 0 | 2.50 |\n",
       "| 7 |  7 | 1.000000 | 2 | 1 | 0 | 0 | 1.50 |\n",
       "| 8 |  8 | 1.400000 | 2 | 1 | 0 | 0 | 0.00 |\n",
       "| 9 |  9 | 1.800000 | 3 | 1 | 0 | 1 | 0.00 |\n",
       "| 12 | 12 | 3.000000 | 3 | 1 | 0 | 1 | 0.00 |\n",
       "\n"
      ],
      "text/plain": [
       "   time A        B C___1 C___2 D E   \n",
       "1   1   5.000000 1 0     1     0 0.50\n",
       "2   2   4.000000 2 0     1     0 1.50\n",
       "3   3   3.000000 3 1     0     1 1.75\n",
       "4   4   3.000000 2 1     0     1 2.00\n",
       "5   5   3.666667 3 1     0     1 2.25\n",
       "6   6   2.333333 3 1     0     0 2.50\n",
       "7   7   1.000000 2 1     0     0 1.50\n",
       "8   8   1.400000 2 1     0     0 0.00\n",
       "9   9   1.800000 3 1     0     1 0.00\n",
       "12 12   3.000000 3 1     0     1 0.00"
      ]
     },
     "metadata": {},
     "output_type": "display_data"
    }
   ],
   "source": [
    "head(ds_k_, 10)"
   ]
  },
  {
   "cell_type": "code",
   "execution_count": null,
   "metadata": {
    "vscode": {
     "languageId": "r"
    }
   },
   "outputs": [],
   "source": []
  }
 ],
 "metadata": {
  "kernelspec": {
   "display_name": "R",
   "language": "R",
   "name": "r_4_11"
  },
  "language_info": {
   "codemirror_mode": "r",
   "file_extension": ".r",
   "mimetype": "text/x-r-source",
   "name": "R",
   "pygments_lexer": "r",
   "version": "4.1.1"
  }
 },
 "nbformat": 4,
 "nbformat_minor": 2
}
